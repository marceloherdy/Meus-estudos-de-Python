{
 "cells": [
  {
   "cell_type": "code",
   "execution_count": null,
   "metadata": {},
   "outputs": [],
   "source": [
    "# Importing needed libraries\n",
    "import os, time\n",
    "import pandas as pd\n",
    "import numpy as np\n",
    "from datetime import datetime, timedelta\n",
    "from stat import * # ST_SIZE etc"
   ]
  },
  {
   "cell_type": "code",
   "execution_count": null,
   "metadata": {},
   "outputs": [],
   "source": [
    "# Defining folder path to be analised\n",
    "path = 'Y:\\\\'\n",
    "\n",
    "# Listing first level paths\n",
    "nova_path = path\n",
    "os.chdir(path)\n",
    "pastas = os.listdir()\n",
    "total = 0\n",
    "print(pastas)"
   ]
  },
  {
   "cell_type": "code",
   "execution_count": null,
   "metadata": {},
   "outputs": [],
   "source": [
    "# Creating lists \n",
    "todas_subpastas = list()\n",
    "lista_arquivos = list()\n",
    "item_lista = list()\n",
    "erros = list()\n",
    "\n",
    "# Opening file to write found files\n",
    "arq = open(\"lista_de_arquivos.txt\", \"w\",encoding=\"utf-8\")"
   ]
  },
  {
   "cell_type": "code",
   "execution_count": null,
   "metadata": {},
   "outputs": [],
   "source": [
    "# Defining function to capture file paths and names and save in a text file.\n",
    "# and in the list lista_arquivos  \n",
    "\n",
    "def listar_pasta(pasta):\n",
    "    global subpastas    \n",
    "    tot = 0\n",
    "    subpastas = list()\n",
    "    if os.path.isdir(pasta):\n",
    "        items = os.listdir(pasta)\n",
    "        for item in items:\n",
    "            novo_item = os.path.join(pasta,item)\n",
    "            # Checking if item is a file. If yes, append to path list\n",
    "            if os.path.isdir(novo_item):\n",
    "                subpastas.append(novo_item)\n",
    "                todas_subpastas.append(novo_item)\n",
    "                continue\n",
    "            fullpath = path + '\\\\' + pasta + '\\\\' + item\n",
    "            # Getting file information\n",
    "            st = os.stat(fullpath) \n",
    "            # Converting dates\n",
    "            dt_cr = time.asctime(time.localtime(st[ST_MTIME]))\n",
    "            data_converte = datetime.strptime(dt_cr, '%a %b %d %H:%M:%S %Y')\n",
    "            data_criacao = data_converte.date()\n",
    "            # Convert size files to Mb\n",
    "            tamanho = st[ST_SIZE]/1024/1024\n",
    "            # Create string to append in the list\n",
    "            arq.write('\\\\' + pasta + '\\\\' + item + \"\\t\" + str(tamanho) + \"\\t\" + str(data_criacao) + \"\\n\")\n",
    "            item_lista = (pasta, item, tamanho, data_criacao)\n",
    "            lista_arquivos.append(item_lista)\n",
    "            # Update counter\n",
    "            tot += 1\n",
    "        for subpasta in subpastas:\n",
    "            tot += listar_pasta(subpasta)\n",
    "    return tot"
   ]
  },
  {
   "cell_type": "code",
   "execution_count": null,
   "metadata": {},
   "outputs": [],
   "source": [
    "# Calling the function\n",
    "if __name__ == '__main__':\n",
    "    for pasta in pastas:\n",
    "        # Updating counter\n",
    "        try:\n",
    "            total +=  listar_pasta(pasta)\n",
    "        # Handling large addresses not supported by Windows\n",
    "        except:\n",
    "            erros.append(pasta)\n",
    "            continue\n",
    "    print(\"Total de arquivos: \" + str(total))\n",
    "    arq.write(\"# Total de arquivos : \"+ str(total))\n",
    "    arq.close()"
   ]
  },
  {
   "cell_type": "code",
   "execution_count": null,
   "metadata": {},
   "outputs": [],
   "source": [
    "for item in lista_arquivos[:10]:\n",
    "    print(item)"
   ]
  },
  {
   "cell_type": "code",
   "execution_count": null,
   "metadata": {},
   "outputs": [],
   "source": [
    "# Checking list of errors\n",
    "for item in erros:\n",
    "    print(item)"
   ]
  },
  {
   "cell_type": "code",
   "execution_count": null,
   "metadata": {},
   "outputs": [],
   "source": [
    "# Converting list to a Pandas dataframe\n",
    "\n",
    "# Colunm names\n",
    "indice = ('pasta', 'arquivo', 'tamanho', 'data_criacao')\n",
    "\n",
    "df = pd.DataFrame(lista_arquivos, columns = indice) \n",
    "df.head(6)"
   ]
  },
  {
   "cell_type": "code",
   "execution_count": null,
   "metadata": {},
   "outputs": [],
   "source": [
    "df.head(6)"
   ]
  }
 ],
 "metadata": {
  "kernelspec": {
   "display_name": "Python 3",
   "language": "python",
   "name": "python3"
  },
  "language_info": {
   "codemirror_mode": {
    "name": "ipython",
    "version": 3
   },
   "file_extension": ".py",
   "mimetype": "text/x-python",
   "name": "python",
   "nbconvert_exporter": "python",
   "pygments_lexer": "ipython3",
   "version": "3.7.3"
  }
 },
 "nbformat": 4,
 "nbformat_minor": 2
}