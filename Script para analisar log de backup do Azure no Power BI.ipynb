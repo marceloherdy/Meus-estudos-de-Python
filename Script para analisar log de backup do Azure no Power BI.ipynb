{
 "cells": [
  {
   "cell_type": "code",
   "execution_count": null,
   "metadata": {},
   "outputs": [],
   "source": [
    "# PARTE 1\n",
    "# Import needed libraries\n",
    "import os, time\n",
    "import pandas as pd\n",
    "from datetime import datetime, timedelta\n",
    "from stat import * # ST_SIZE etc"
   ]
  },
  {
   "cell_type": "code",
   "execution_count": null,
   "metadata": {},
   "outputs": [],
   "source": [
    "# PARTE 2 \n",
    "# Generates list of folder contents\n",
    "path = '\\\\\\\\brrio.vnet\\\\Backup_Azure\\\\Logs'\n",
    "os.chdir(path)\n",
    "arquivos = os.listdir()\n",
    "\n",
    "print(arquivos[0:8])"
   ]
  },
  {
   "cell_type": "code",
   "execution_count": null,
   "metadata": {},
   "outputs": [],
   "source": [
    "# PARTE 3\n",
    "# Create list to receive .log files\n",
    "lista_arquivos = list()\n",
    "\n",
    "# Filters only files .log \n",
    "for arquivo in arquivos:\n",
    "    try:\n",
    "        separa = arquivo.split('.')[1]\n",
    "        if separa == 'log':\n",
    "            lista_arquivos.append(arquivo)\n",
    "    except:\n",
    "        continue\n",
    "        \n",
    "print(lista_arquivos[0:8])"
   ]
  },
  {
   "cell_type": "code",
   "execution_count": null,
   "metadata": {},
   "outputs": [],
   "source": [
    "# PARTE 4\n",
    "# Create temporary lists\n",
    "temp = list()\n",
    "lista = list()\n",
    "\n",
    "# Loop for \n",
    "for arquivo in lista_arquivos:\n",
    "    fullpath = path + '\\\\' + arquivo\n",
    "    # Getting file information\n",
    "    st = os.stat(arquivo) \n",
    "    # Convert dates\n",
    "    dt_cr = time.asctime(time.localtime(st[ST_MTIME]))\n",
    "    data_converte = datetime.strptime(dt_cr, '%a %b %d %H:%M:%S %Y')\n",
    "    data_criacao = data_converte.date()\n",
    "    # Set previous date\n",
    "    data_temp = datetime.now() - timedelta(days = 1)\n",
    "    data_importa = data_temp.date()\n",
    "    hora_criacao =  data_converte.time()\n",
    "   \n",
    "   # Consider only dates larger than the previous day\n",
    "    if data_criacao > data_importa:\n",
    "        try:\n",
    "            with open(arquivo) as f:\n",
    "                conteudo = f.readlines()\n",
    "\n",
    "            # Get path name   \n",
    "            insert = conteudo[3]\n",
    "            inicio = insert.find('//')\n",
    "            fim = insert.find('*')\n",
    "            pasta = insert[inicio:fim].replace('//prefix_name/','')                              \n",
    "\n",
    "            # Get importation results. This is information is in the botton of the files\n",
    "            sumario = conteudo[len(conteudo)-8:len(conteudo)-1]\n",
    "            for cada in sumario:\n",
    "                separa = cada.replace('\\n','').split(':')\n",
    "                indicador = separa[0]\n",
    "                valor = separa[1]\n",
    "                temp = pasta, arquivo, indicador, valor, data_criacao, hora_criacao\n",
    "                # Insert in the list\n",
    "                lista.append(temp)\n",
    "        except:\n",
    "            print('O arquivo %s do dia XX está com problema.' %arquivo)\n",
    "            continue\n",
    "\n",
    "\n",
    "\n",
    "print(df_erro)\n",
    "print(lista[0:10])"
   ]
  },
  {
   "cell_type": "code",
   "execution_count": null,
   "metadata": {},
   "outputs": [],
   "source": [
    "# PARTE 5\n",
    "# Convert list to a dataframe \n",
    "indice = ('pasta', 'arquivo', 'indicador', 'valor', 'data_criacao', 'hora_criacao')\n",
    "df = pd.DataFrame(columns = indice)\n",
    "\n",
    "for n in lista :\n",
    "    registro = ({'pasta': n[0], 'arquivo': n[1], 'indicador': n[2], 'valor': n[3], 'data_criacao': n[4], 'hora_criacao': n[5]})\n",
    "    df = df.append(registro,ignore_index=True)\n",
    "print(df)"
   ]
  },
  {
   "cell_type": "code",
   "execution_count": null,
   "metadata": {},
   "outputs": [],
   "source": [
    "# PARTE 6\n",
    "# Divide indicator column into one column by indicator\n",
    "\n",
    "df['Elapsed_Time_Minutes'] = None\n",
    "df['Total_Number_Transfers'] = None\n",
    "df['Number_Transfers_Completed'] = None\n",
    "df['Number_Transfers_Failed'] = None\n",
    "df['Number_Transfers_Skipped'] = None\n",
    "df['TotalBytes_Transferred'] = None\n",
    "df['Final_Job_Status'] = None\n",
    "\n",
    "for b in df.itertuples():\n",
    "    df.Elapsed_Time_Minutes[b.Index] = b.valor.replace('.',',') if b.indicador == 'Elapsed Time (Minutes)' else ''\n",
    "    df.Total_Number_Transfers[b.Index] = b.valor if b.indicador == 'Total Number Of Transfers' else ''\n",
    "    df.Number_Transfers_Completed[b.Index] = b.valor if b.indicador == 'Number of Transfers Completed' else ''\n",
    "    df.Number_Transfers_Failed[b.Index] = b.valor if b.indicador == 'Number of Transfers Failed' else ''\n",
    "    df.Number_Transfers_Skipped[b.Index] = b.valor if b.indicador == 'Number of Transfers Skipped' else ''\n",
    "    df.TotalBytes_Transferred[b.Index] = b.valor if b.indicador == 'TotalBytesTransferred' else ''\n",
    "    df.Final_Job_Status[b.Index] = b.valor if b.indicador == 'Final Job Status' else ''\n",
    "        \n",
    "df"
   ]
  }
 ],
 "metadata": {
  "kernelspec": {
   "display_name": "Python 3",
   "language": "python",
   "name": "python3"
  },
  "language_info": {
   "codemirror_mode": {
    "name": "ipython",
    "version": 3
   },
   "file_extension": ".py",
   "mimetype": "text/x-python",
   "name": "python",
   "nbconvert_exporter": "python",
   "pygments_lexer": "ipython3",
   "version": "3.7.3"
  }
 },
 "nbformat": 4,
 "nbformat_minor": 2
}