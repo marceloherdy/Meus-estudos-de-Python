{
 "cells": [
  {
   "cell_type": "code",
   "execution_count": null,
   "metadata": {},
   "outputs": [],
   "source": [
    "# Import needed libraries \n",
    "import os\n",
    "\n",
    "# Define path were the files are saved\n",
    "path = '\\\\\\\\Nova Pasta\\\\' \n",
    "\n",
    "os.chdir(path)\n",
    "\n",
    "# Create a list with file names\n",
    "lista = os.listdir() \n",
    "\n",
    "print(lista)"
   ]
  },
  {
   "cell_type": "code",
   "execution_count": null,
   "metadata": {},
   "outputs": [],
   "source": [
    "# Rename file names using replace()\n",
    "for arquivo in lista:\n",
    "    if '_Mensal' in arquivo:\n",
    "        novoarquivo = arquivo.replace('_Mensal','')\n",
    "        os.rename(arquivo,novoarquivo)"
   ]
  }
 ],
 "metadata": {
  "kernelspec": {
   "display_name": "Python 3",
   "language": "python",
   "name": "python3"
  },
  "language_info": {
   "codemirror_mode": {
    "name": "ipython",
    "version": 3
   },
   "file_extension": ".py",
   "mimetype": "text/x-python",
   "name": "python",
   "nbconvert_exporter": "python",
   "pygments_lexer": "ipython3",
   "version": "3.7.3"
  }
 },
 "nbformat": 4,
 "nbformat_minor": 2
}