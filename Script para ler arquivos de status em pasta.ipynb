{
 "cells": [
  {
   "cell_type": "code",
   "execution_count": 2,
   "metadata": {},
   "outputs": [
    {
     "output_type": "stream",
     "name": "stdout",
     "text": "pasta                                            arquivo conclusao\n0    2020_04_01                                CUNF - WITH_ITEM.ok         1\n1    2020_04_01       Cvrd_Rel_Gerencial_Importacao_Novo.sikuli.ok         1\n2    2020_04_01                                Execucoes_Robos.csv         1\n3    2020_04_01                       ExtracaoBaseAuditoria.jar.ok         1\n4    2020_04_01                            ExtracaoDrawback.jar.ok         1\n..          ...                                                ...       ...\n363  2020_04_26                      Extracao_FBL1N_Compensados.ok         1\n364  2020_04_26  Orcamento - Custeio - KSB1 - Semanal - Unifica...         1\n365  2020_04_26                  SAP - One Vale - BATCH USER.py.ok         1\n366  2020_04_26     SAP - One Vale - Cockpit Operacional.sikuli.ok         1\n367  2020_04_26  SAP - One Vale - Valor de Estoque - MB52.sikul...         1\n\n[368 rows x 3 columns]\n"
    }
   ],
   "source": [
    "# Import needed libraries\n",
    "import os\n",
    "import pandas as pd\n",
    "from datetime import datetime\n",
    "\n",
    "# Create present date in needed format\n",
    "now = datetime.now()\n",
    "periodo = str(datetime.now())[0:7].replace('-','_')\n",
    "dia = now.day\n",
    "\n",
    "# Create list\n",
    "periodo_import = list()\n",
    "\n",
    "# Handling monthly and daily folders\n",
    "for i in range(now.day):\n",
    "    if dia == 1:\n",
    "        periodo_import.append(periodo + '_Mensal') \n",
    "        periodo_import.append(periodo + '_' + str(i+1).zfill(2))\n",
    "    else: \n",
    "        periodo_import.append(periodo + '_' + str(i+1).zfill(2))\n",
    "\n",
    "# Setting folder where status files are created\n",
    "os.chdir('\\\\\\\\brrio.vnet.vglobal.net\\\\07_STATUS_ROBOS')\n",
    "tudo = list()\n",
    "\n",
    "# Creating Pandas dataframe to receive file information\n",
    "indice = ('pasta', 'arquivo','conclusao') \n",
    "df = pd.DataFrame(columns = indice)\n",
    "\n",
    "# Appending file information in the dataframe\n",
    "for pasta in periodo_import :\n",
    "    arquivos = os.listdir(pasta)\n",
    "    for arquivo in arquivos :\n",
    "        # Checks whether the file interests us\n",
    "        if arquivo.startswith('Popula') | arquivo.startswith('Portal') :\n",
    "            continue\n",
    "        else :\n",
    "            if dia == 1 | pasta.endswith('_Mensal'):\n",
    "                registro = ({'pasta' : (periodo + '_01'), 'arquivo' : arquivo, 'conclusao' : 1})\n",
    "            else:    \n",
    "                registro = ({'pasta' : pasta, 'arquivo' : arquivo, 'conclusao' : 1})\n",
    "            df = df.append(registro,ignore_index=True) "
   ]
  }
 ],
 "metadata": {
  "kernelspec": {
   "display_name": "Python 3",
   "language": "python",
   "name": "python3"
  },
  "language_info": {
   "codemirror_mode": {
    "name": "ipython",
    "version": 3
   },
   "file_extension": ".py",
   "mimetype": "text/x-python",
   "name": "python",
   "nbconvert_exporter": "python",
   "pygments_lexer": "ipython3",
   "version": "3.7.4-final"
  }
 },
 "nbformat": 4,
 "nbformat_minor": 2
}